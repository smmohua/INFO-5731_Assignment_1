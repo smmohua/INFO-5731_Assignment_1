{
 "cells": [
  {
   "cell_type": "markdown",
   "metadata": {
    "colab_type": "text",
    "id": "view-in-github"
   },
   "source": [
    "<a href=\"https://colab.research.google.com/github/unt-iialab/INFO5731_Spring2020/blob/master/Assignments/INFO5731_Assignment_One.ipynb\" target=\"_parent\"><img src=\"https://colab.research.google.com/assets/colab-badge.svg\" alt=\"Open In Colab\"/></a>"
   ]
  },
  {
   "cell_type": "markdown",
   "metadata": {
    "colab_type": "text",
    "id": "Ryk8D1Q4Wsrp"
   },
   "source": [
    "# **INFO5731 Assignment One**"
   ]
  },
  {
   "cell_type": "markdown",
   "metadata": {
    "colab_type": "text",
    "id": "90_NR8c5XGWc"
   },
   "source": [
    "# Question 1\n",
    "\n",
    "(20 points). Write a Python program to generate 12 random numbers between 1 and 100. Sort the list of numbers in ascending order and print it out. Sort the list of numbers in descending order and print it out. Calculate the average for the group and print it out."
   ]
  },
  {
   "cell_type": "code",
   "execution_count": 27,
   "metadata": {
    "colab": {},
    "colab_type": "code",
    "id": "5QX6bJjGWXY9"
   },
   "outputs": [
    {
     "name": "stdout",
     "output_type": "stream",
     "text": [
      "[2, 13, 30, 38, 48, 48, 64, 64, 73, 77, 79, 85]\n",
      "[85, 79, 77, 73, 64, 64, 48, 48, 38, 30, 13, 2]\n"
     ]
    }
   ],
   "source": [
    "# Your code here\n",
    "import random\n",
    "generatelist = []\n",
    "for n in range(0, 12):\n",
    " x = random.randint(1, 100)\n",
    " generatelist.append(x)\n",
    "a = sorted(generatelist)\n",
    "print(a)\n",
    "b = sorted(generatelist, reverse = True)\n",
    "print(b)\n"
   ]
  },
  {
   "cell_type": "raw",
   "metadata": {
    "colab_type": "text",
    "id": "1F_PZdH9Sh49"
   },
   "source": [
    "# Question 2\n",
    "(25 points). Write a program that will do the following string formatting tasks:\n",
    "\n",
    "(1) Ask the user to enter two sentences.\n",
    "\n",
    "(2) Make each sentence into a list. Each element in the list should correspond to a word in the sentence. For example, if the sentence is \"Alas! Am I alive? This is my first python program\", the program should print out ['Alas, '!', 'Am', 'I', 'alive, '?', 'This', 'is', 'my', 'first', 'python', 'program'].\n",
    "\n",
    "(3) Compare the two sentences. Print out a list of words that occur in both sentences.\n",
    "\n",
    "(4) Remove any punctuation from the sentence and print it back out. It should remove at least the following characters, but it can remove more: period(“.”), comma (“,”), semicolon (“;”), and colon (“:”)\n",
    "\n",
    "(5) Count the number of vowels in the sentences. Print out each vowel and the number of times it appears in the sentences, such as: a:2, e:1, i:0, etc"
   ]
  },
  {
   "cell_type": "code",
   "execution_count": 30,
   "metadata": {},
   "outputs": [
    {
     "name": "stdout",
     "output_type": "stream",
     "text": [
      "enter sentance one:Most beautiful college Campuses in the United states\n",
      "enter sentence two:Most beautiful college is UNT\n",
      "['Most', 'beautiful', 'college', 'Campuses', 'in', 'the', 'United', 'states']\n",
      "['Most', 'beautiful', 'college', 'is', 'UNT']\n"
     ]
    }
   ],
   "source": [
    "# Your code here\n",
    "#Question1\n",
    "sentence_one=str(input('enter sentance one:'))\n",
    "sentence_two=str(input('enter sentence two:'))\n",
    "list_one=sentence_one.split()\n",
    "list_two=sentence_two.split()\n",
    "print(list_one)\n",
    "print(list_two)"
   ]
  },
  {
   "cell_type": "code",
   "execution_count": 31,
   "metadata": {},
   "outputs": [
    {
     "name": "stdout",
     "output_type": "stream",
     "text": [
      "Converted sentence one to list: ['Most', 'beautiful', 'college', 'Campuses', 'in', 'the', 'United', 'states']\n",
      "Converted sentence two to list: ['Most', 'beautiful', 'college', 'is', 'UNT']\n"
     ]
    }
   ],
   "source": [
    "# Your code here\n",
    "#Question2\n",
    "import re\n",
    "list_sentence_one = re.findall(r\"[\\w']+|[.,!?]\", sentence_one)\n",
    "list_sentence_two = re.findall(r\"[\\w']+|[.,!?]\", sentence_two)\n",
    "print('Converted sentence one to list:', list_sentence_one)\n",
    "print('Converted sentence two to list:', list_sentence_two)\n",
    "\n",
    "\n"
   ]
  },
  {
   "cell_type": "code",
   "execution_count": 34,
   "metadata": {},
   "outputs": [
    {
     "name": "stdout",
     "output_type": "stream",
     "text": [
      "Words that occur in both sentences: {'college', 'beautiful', 'Most'}\n"
     ]
    }
   ],
   "source": [
    "#Your code here\n",
    "#Question3\n",
    "set_matching_words = set(list_sentence_one) & set(list_sentence_two)\n",
    "print('Words that occur in both sentences:', set_matching_words)\n",
    "\n"
   ]
  },
  {
   "cell_type": "code",
   "execution_count": 35,
   "metadata": {
    "scrolled": true
   },
   "outputs": [
    {
     "name": "stdout",
     "output_type": "stream",
     "text": [
      "Removed punctuations from list: Most beautiful college Campuses in the United states\n",
      "Removed punctuations from list: Most beautiful college is UNT\n"
     ]
    }
   ],
   "source": [
    "#Your code here\n",
    "#Question4\n",
    "remove_punctuation_s1_list = re.sub(r'[^\\w\\s]', '', sentence_one)\n",
    "remove_punctuation_s2_list = re.sub(r'[^\\w\\s]', '', sentence_two)\n",
    "print('Removed punctuations from list:', remove_punctuation_s1_list)\n",
    "print('Removed punctuations from list:', remove_punctuation_s2_list)\n"
   ]
  },
  {
   "cell_type": "code",
   "execution_count": 36,
   "metadata": {},
   "outputs": [
    {
     "name": "stdout",
     "output_type": "stream",
     "text": [
      "Count of vowels in the sentence one: {'A': 0, 'E': 0, 'I': 0, 'O': 0, 'U': 1, 'a': 3, 'e': 7, 'i': 3, 'o': 2, 'u': 3}\n",
      "Count of vowels in the sentence two: {'A': 0, 'E': 0, 'I': 0, 'O': 0, 'U': 1, 'a': 1, 'e': 3, 'i': 2, 'o': 2, 'u': 2}\n"
     ]
    }
   ],
   "source": [
    "#Your code here\n",
    "#Question5\n",
    "list_of_vowels = 'AEIOUaeiou'\n",
    "\n",
    "def number_of_vowels(data):\n",
    "    result = {'A':0,'E':0,'I':0,'O':0,'U':0,'a':0,'e':0,'i':0,'o':0,'u':0}\n",
    "    for i in list_of_vowels:\n",
    "        result[i] = data.count(i)\n",
    "        \n",
    "    return result\n",
    "\n",
    "print(\"Count of vowels in the sentence one:\", number_of_vowels(sentence_one))\n",
    "print(\"Count of vowels in the sentence two:\", number_of_vowels(sentence_two))\n"
   ]
  },
  {
   "cell_type": "markdown",
   "metadata": {
    "colab_type": "text",
    "id": "CmFoI4jDS9nx"
   },
   "source": [
    "# Question 3 \n",
    "\n",
    "(15 points). The formula that describes the volume V of a sphere with radius r is the following:\n",
    "\n",
    "$ V=\\frac{4}{3}\\ast\\ \\pi\\ast\\ r^3 $\n",
    "\n",
    "Write a program to calculate the value of V when r is in the range of 1–10. Output the result in the following format:\n",
    "\n",
    "\tr\tV\n",
    "\t1\t…\n",
    "\t2\t…\n",
    "\t3\t…\n"
   ]
  },
  {
   "cell_type": "code",
   "execution_count": 37,
   "metadata": {
    "colab": {},
    "colab_type": "code",
    "id": "pEyqeioAT95b"
   },
   "outputs": [
    {
     "name": "stdout",
     "output_type": "stream",
     "text": [
      "r v\n",
      "1 4.188790204\n",
      "2 33.510321632\n",
      "3 113.097335508\n",
      "4 268.082573056\n",
      "5 523.5987755\n",
      "6 904.778684064\n",
      "7 1436.755039972\n",
      "8 2144.660584448\n",
      "9 3053.628058716\n",
      "10 4188.790204\n"
     ]
    }
   ],
   "source": [
    "# Your code here\n",
    "pi=3.141592653\n",
    "print('r','v')\n",
    "for i in range(1,11):\n",
    "    V=(4/3)*pi*(i**3)\n",
    "    print(i,V)"
   ]
  },
  {
   "cell_type": "markdown",
   "metadata": {
    "colab_type": "text",
    "id": "z3tBE7E-Xn5X"
   },
   "source": [
    "# Question 4\n",
    "\n",
    "(40 points). In the field of Data Science, data is often formatted as a comma-delimited (CSV) file, where each line in a file corresponds to a field's value. Refer to Chapter 9 (p. 106) for more information on comma-delimited files. To answer this question, you will need to download the file [Assignment1_denton_housing.csv](https://raw.githubusercontent.com/unt-iialab/info5731-spring2022/main/assignments/Assignment1_denton_housing.csv) included with this assignment. The file [Assignment1_denton_housing.csv](https://raw.githubusercontent.com/unt-iialab/info5731-spring2022/main/assignments/Assignment1_denton_housing.csv) contains statistics about housing in the city of Denton from 2008 to 2014. Write a program to implement the following questions.\n",
    "\n",
    "(1) (10 pts) Calculate the difference in the number of Occupied Housing Units from year to year and print it. The difference must be calculated for the consecutive years such as 2008-2009, 2009-2010 etc. Finally, print the values in the ascending order.\n",
    "\n",
    "(2) (10 pts) For all the years, calculate the percentage of housing units which are vacant an occupied. Print the results in the following format:\n",
    "\n",
    "Year Vacant Housing Units Occupied Housing Units\n",
    "\n",
    "    2008  30%   70%                          \n",
    "\t2009 ----- -----\n",
    "\t2010 ----- -----\n",
    "    2011 ----- -----\n",
    "\t2012 ----- -----\n",
    "    2013 ----- -----\n",
    "\t2014 ----- -----\n",
    "  \n",
    "  \n",
    "\n",
    "(3) (10 pts) Calculate and print the valued and years in which the highest number of housing units were vacant and occupied. Print the results in the following format:  \n",
    "\n",
    "                              Year\tValue\n",
    "\tVacant Housing Units\t  -----   -----\n",
    "\tOccupied Housing Units\t-----   -----\n",
    "\n",
    "(4) (10 pts) Calculate the harmonic mean of the total housing units and print it out. You can find the information about harmonic mean here: https://ncalculators.com/statistics/harmonic-mean-calculator.htm"
   ]
  },
  {
   "cell_type": "code",
   "execution_count": 38,
   "metadata": {
    "colab": {},
    "colab_type": "code",
    "id": "lqGYuHBhcsRH"
   },
   "outputs": [
    {
     "data": {
      "text/plain": [
       "[795, -5091, 303, -1404, -1565, -2622]"
      ]
     },
     "execution_count": 38,
     "metadata": {},
     "output_type": "execute_result"
    }
   ],
   "source": [
    "# Your code here\n",
    "#importing modules\n",
    "#Question1\n",
    "import statistics\n",
    "import pandas as pd\n",
    "data = pd.read_csv(r'https://raw.githubusercontent.com/unt-iialab/info5731-spring2022/main/assignments/Assignment1_denton_housing.csv')\n",
    "#Calculate the difference in the number of Occupied Housing Units from year to year andprint it.\n",
    "#The difference must be calculated for the consecutive years such as 2008-2009, 2009-2010\n",
    "\n",
    "occuped_houses = data[data['title_field'] == 'Occupied Housing Units'].sort_values(by=['year'])\n",
    "\n",
    "# the difference in the number of Occupied Housing Units from year to year\n",
    "\n",
    "difference_house = [list(occuped_houses['value'].values)[loop] - list(occuped_houses['value'].values)[loop+1]\\\n",
    "for loop in range(len(occuped_houses)-1)]\n",
    "difference_house\n",
    "\n",
    "\n"
   ]
  },
  {
   "cell_type": "code",
   "execution_count": 39,
   "metadata": {},
   "outputs": [
    {
     "name": "stdout",
     "output_type": "stream",
     "text": [
      "Year Vacant Housing Units Occupied Housing Units\n",
      "2014 5.730110570363885 % 94.26988942963611 %\n",
      "2013 8.801787504176412 % 91.19821249582358 %\n",
      "2012 6.677600230491346 % 93.32239976950866 %\n",
      "2011 9.379522229890688 % 90.6204777701093 %\n",
      "2010 8.142556337081672 % 91.85744366291833 %\n",
      "2009 9.07111572444872 % 90.92888427555128 %\n",
      "2008 10.88265281351653 % 89.11734718648347 %\n"
     ]
    }
   ],
   "source": [
    "#Your code here\n",
    "# Question2\n",
    "#calculate the percentage of housing units which are vacant and occupied.\n",
    "\n",
    "print('Year', 'Vacant Housing Units', 'Occupied Housing Units')\n",
    "\n",
    "years = []\n",
    "\n",
    "for i, d in data.iterrows():\n",
    "    total_val = 0\n",
    "    occupied_val = 0\n",
    "    \n",
    "    vacant_val = 0\n",
    "    count = 0\n",
    "    for item, row in data.iterrows():\n",
    "        if row['year'] == d['year']:\n",
    "            if count == 3:\n",
    "                if row['year'] not in years:\n",
    "                    years.append(row['year'])\n",
    "                    print(row['year'], (vacant_val/total_val)*100, '%', (occupied_val/total_val)*100, '%')\n",
    "                break;\n",
    "            if row['title_field'] == 'Occupied Housing Units':\n",
    "                occupied_val = row['value']\n",
    "                count += 1\n",
    "            if row['title_field'] == 'Vacant Housing Units':\n",
    "                vacant_val = row['value']\n",
    "                count += 1\n",
    "            if row['title_field'] == 'Total Housing Units':\n",
    "                total_val = row['value']\n",
    "                count += 1\n"
   ]
  },
  {
   "cell_type": "code",
   "execution_count": 40,
   "metadata": {},
   "outputs": [
    {
     "name": "stdout",
     "output_type": "stream",
     "text": [
      "                        year  value\n",
      "Vacant Housing Units    2008   4483\n",
      "Occupied Housing Units  2014  46295\n"
     ]
    }
   ],
   "source": [
    "#Your code here\n",
    "#Question3\n",
    "max_vacant_value = 0\n",
    "max_occupied_value = 0\n",
    "highest_numbers = [0, 0]\n",
    "\n",
    "for item, row in data.iterrows():\n",
    "    if row['title_field'] == 'Occupied Housing Units':\n",
    "        if row['value'] > max_occupied_value:\n",
    "            max_occupied_value = row['value']\n",
    "            highest_numbers[1] = row\n",
    "    if row['title_field'] == 'Vacant Housing Units':\n",
    "        if row['value'] > max_vacant_value:\n",
    "            max_vacant_value = row['value']\n",
    "            highest_numbers[0] = row\n",
    "            \n",
    "df = pd.DataFrame(data=highest_numbers, columns=['year', 'value'], index=['Vacant Housing Units', 'Occupied Housing Units'])\n",
    "print(df)\n",
    "\n",
    "\n"
   ]
  },
  {
   "cell_type": "code",
   "execution_count": 41,
   "metadata": {},
   "outputs": [
    {
     "name": "stdout",
     "output_type": "stream",
     "text": [
      "44398.28543969185\n"
     ]
    }
   ],
   "source": [
    "#Your code here\n",
    "#Question4\n",
    "# the harmonic mean .\n",
    "\n",
    "print(statistics.harmonic_mean(list(data[data['title_field'] == 'Total Housing Units'].\n",
    "value)))\n"
   ]
  },
  {
   "cell_type": "code",
   "execution_count": null,
   "metadata": {},
   "outputs": [],
   "source": []
  }
 ],
 "metadata": {
  "colab": {
   "authorship_tag": "ABX9TyOAjsNCkNulTpzgRQbHdy3f",
   "collapsed_sections": [],
   "include_colab_link": true,
   "name": "INFO5731_Assignment_One.ipynb",
   "provenance": []
  },
  "kernelspec": {
   "display_name": "Python 3 (ipykernel)",
   "language": "python",
   "name": "python3"
  },
  "language_info": {
   "codemirror_mode": {
    "name": "ipython",
    "version": 3
   },
   "file_extension": ".py",
   "mimetype": "text/x-python",
   "name": "python",
   "nbconvert_exporter": "python",
   "pygments_lexer": "ipython3",
   "version": "3.9.12"
  }
 },
 "nbformat": 4,
 "nbformat_minor": 1
}
